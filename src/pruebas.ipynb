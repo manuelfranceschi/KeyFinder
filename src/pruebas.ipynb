{
 "cells": [
  {
   "cell_type": "code",
   "execution_count": 26,
   "metadata": {},
   "outputs": [
    {
     "name": "stdout",
     "output_type": "stream",
     "text": [
      "¡Claro! Aquí te dejo tres recomendaciones de teclados mecánicos con un buen rendimiento y disponibles por menos de 100 euros en España. He incluido enlaces a Amazon España para que puedas comprarlos fácilmente:\n",
      "\n",
      "### 1. **Redragon K502 Wired Mechanical Gaming Keyboard**\n",
      "- **Tipo de interruptores:** Rojos MX (lineales)\n",
      "- **Backlight:** RGB (con varios patrones)\n",
      "- **Comodidad:** Nivel de ruido bajo, buen feedback táctil\n",
      "- **Conexión:** Cableada\n",
      "\n",
      "**Enlace de compra:**\n",
      "- [Redragon K502 en Amazon España](https://www.amazon.es/Redragon-Mecánico-Compatibilidad-Filamento-Controlable/dp/B08CCKN78Q)\n",
      "\n",
      "### 2. **Glorious GMMK Pro Mechanical Keyboard**\n",
      "- **Tipo de interruptores:** Hot-swappable (puedes cambiar los interruptores fácilmente)\n",
      "- **Backlight:** RGB\n",
      "- **Comodidad:** Diseño robusto, switch plates de aluminio\n",
      "- **Conexión:** Cableada\n",
      "\n",
      "**Enlace de compra:**\n",
      "- [Glorious GMMK Pro en Amazon España](https://www.amazon.es/Glorious-Mecánico-Completamente-Versión-Estándar/dp/B096DBNMZ7)\n",
      "\n",
      "### 3. **Cyborg DK-6105 DK61 Mechanical Keyboard**\n",
      "- **Tipo de interruptores:** Outemu Blue (clickeables)\n",
      "- **Backlight:** RGB\n",
      "- **Comodidad:** Diseño compacto (60%)\n",
      "- **Conexión:** Cableada\n",
      "\n",
      "**Enlace de compra:**\n",
      "- [Cyborg DK-6105 DK61 en Amazon España](https://www.amazon.es/Cyborg-Underglow-Illuminación-Cómputo-girlfriend/dp/B07YJYCWM8)\n",
      "\n",
      "Estos teclados son opciones populares y ofrecen una buena relación calidad-precio. Si tienes alguna preferencia específica, como el tipo de interruptores, el tamaño del teclado o características adicionales, no dudes en decírmelo. ¡Espero que encuentres la opción que mejor se adapte a tus necesidades!\n"
     ]
    }
   ],
   "source": [
    "from huggingface_hub import InferenceClient\n",
    "from dotenv import load_dotenv\n",
    "import os\n",
    "load_dotenv()\n",
    "client = InferenceClient(api_key=os.getenv('API_KEY_MODEL'))\n",
    "\n",
    "messages = [\n",
    "\t{\n",
    "\t\t\"role\": \"user\",\n",
    "\t\t\"content\": \"Eres un experto en teclados mecanicos. Recomiendame tres teclados por menos de 100 euros y dame su link para comprarlo en españa\"\n",
    "\t}\n",
    "]\n",
    "\n",
    "completion = client.chat.completions.create(\n",
    "    model=\"Qwen/Qwen2.5-72B-Instruct\", \n",
    "\tmessages=messages, \n",
    "\tmax_tokens=500\n",
    ")\n",
    "\n",
    "print(completion.choices[0].message.content)"
   ]
  },
  {
   "cell_type": "code",
   "execution_count": null,
   "metadata": {},
   "outputs": [],
   "source": [
    "from langchain_core.prompts import PromptTemplate\n",
    "\n",
    "prompt_template = PromptTemplate.from_template(\"Tell me a joke about {topic}\")\n",
    "\n",
    "prompt_template.invoke({\"topic\": \"cats\"})"
   ]
  }
 ],
 "metadata": {
  "kernelspec": {
   "display_name": "Python 3",
   "language": "python",
   "name": "python3"
  },
  "language_info": {
   "codemirror_mode": {
    "name": "ipython",
    "version": 3
   },
   "file_extension": ".py",
   "mimetype": "text/x-python",
   "name": "python",
   "nbconvert_exporter": "python",
   "pygments_lexer": "ipython3",
   "version": "3.12.5"
  }
 },
 "nbformat": 4,
 "nbformat_minor": 2
}
