{
 "cells": [
  {
   "cell_type": "code",
   "execution_count": 66,
   "metadata": {},
   "outputs": [],
   "source": [
    "import pandas as pd\n",
    "import pymysql\n"
   ]
  },
  {
   "cell_type": "code",
   "execution_count": 67,
   "metadata": {},
   "outputs": [],
   "source": [
    "username = \"admin\"\n",
    "password = \"12345678\"\n",
    "host = \"database-1.cjkqaw0c4rh3.us-east-2.rds.amazonaws.com\" \n",
    "port = 3306\n",
    "\n",
    "'''\n",
    "pymysql.cursors.DictCursor para que los resultados que devuelva sean diccionarios,\n",
    "por defecto devuelve tuplas. Asi podemos acceder por clave a las columnas.\n",
    "'''\n",
    "\n",
    "db = pymysql.connect(host = host,\n",
    "                     user = username,\n",
    "                     password = password,\n",
    "                     cursorclass = pymysql.cursors.DictCursor\n",
    ")\n",
    "\n",
    "# El objeto cursor es el que ejecutará las queries y devolverá los resultados\n",
    "\n",
    "cursor = db.cursor()"
   ]
  },
  {
   "cell_type": "code",
   "execution_count": 68,
   "metadata": {},
   "outputs": [
    {
     "name": "stdout",
     "output_type": "stream",
     "text": [
      "MySQL version: {'VERSION()': '8.0.39'}\n"
     ]
    }
   ],
   "source": [
    "cursor.execute('SELECT VERSION()')\n",
    "version = cursor.fetchone()\n",
    "print(f'MySQL version: {version}')"
   ]
  },
  {
   "cell_type": "code",
   "execution_count": 69,
   "metadata": {},
   "outputs": [
    {
     "data": {
      "text/plain": [
       "1"
      ]
     },
     "execution_count": 69,
     "metadata": {},
     "output_type": "execute_result"
    }
   ],
   "source": [
    "create_db = '''CREATE DATABASE keyfinder'''\n",
    "cursor.execute(create_db) "
   ]
  },
  {
   "cell_type": "code",
   "execution_count": 70,
   "metadata": {},
   "outputs": [
    {
     "data": {
      "text/plain": [
       "0"
      ]
     },
     "execution_count": 70,
     "metadata": {},
     "output_type": "execute_result"
    }
   ],
   "source": [
    "cursor.connection.commit()\n",
    "use_db = ''' USE keyfinder'''\n",
    "cursor.execute(use_db)"
   ]
  },
  {
   "cell_type": "code",
   "execution_count": 74,
   "metadata": {},
   "outputs": [
    {
     "data": {
      "text/plain": [
       "0"
      ]
     },
     "execution_count": 74,
     "metadata": {},
     "output_type": "execute_result"
    }
   ],
   "source": [
    "create_table = '''\n",
    "CREATE TABLE kb_input (\n",
    "    id_kb_input INT AUTO_INCREMENT NOT NULL PRIMARY KEY,\n",
    "    kb_usage VARCHAR(45) NOT NULL,\n",
    "    budget INT NOT NULL,\n",
    "    switch VARCHAR(50) NOT NULL,\n",
    "    kb_size VARCHAR(30) NOT NULL,\n",
    "    kb_connection VARCHAR(20) NOT NULL,\n",
    "    mk_before BOOLEAN NOT NULL,\n",
    "    mk_input VARCHAR(300) NOT NULL\n",
    ");\n",
    "'''\n",
    "cursor.execute(create_table)"
   ]
  },
  {
   "cell_type": "code",
   "execution_count": 75,
   "metadata": {},
   "outputs": [
    {
     "data": {
      "text/plain": [
       "0"
      ]
     },
     "execution_count": 75,
     "metadata": {},
     "output_type": "execute_result"
    }
   ],
   "source": [
    "create_table = '''\n",
    "CREATE TABLE kb_output (\n",
    "    id_kb_output INT AUTO_INCREMENT NOT NULL PRIMARY KEY,\n",
    "    id_kb_input INT NOT NULL,\n",
    "    kb_shown INT NOT NULL,\n",
    "    price INT NOT NULL,\n",
    "    switch VARCHAR(50) NOT NULL,\n",
    "    kb_size VARCHAR(50) NOT NULL,\n",
    "    mk_output VARCHAR(300) NOT NULL,\n",
    "    FOREIGN KEY (id_kb_input) REFERENCES kb_input(id_kb_input)\n",
    ");\n",
    "\n",
    "'''\n",
    "cursor.execute(create_table)"
   ]
  },
  {
   "cell_type": "code",
   "execution_count": null,
   "metadata": {},
   "outputs": [],
   "source": []
  },
  {
   "cell_type": "code",
   "execution_count": 77,
   "metadata": {},
   "outputs": [
    {
     "data": {
      "text/plain": [
       "[{'Tables_in_keyfinder': 'kb_input'}, {'Tables_in_keyfinder': 'kb_output'}]"
      ]
     },
     "execution_count": 77,
     "metadata": {},
     "output_type": "execute_result"
    }
   ],
   "source": [
    "# checkear todas las tablas que tiene mi db\n",
    "cursor.execute('SHOW TABLES')\n",
    "cursor.fetchall()"
   ]
  },
  {
   "cell_type": "code",
   "execution_count": 83,
   "metadata": {},
   "outputs": [
    {
     "data": {
      "text/plain": [
       "()"
      ]
     },
     "execution_count": 83,
     "metadata": {},
     "output_type": "execute_result"
    }
   ],
   "source": [
    "cursor.execute('Select * from kb_output')\n",
    "cursor.fetchall()"
   ]
  },
  {
   "cell_type": "code",
   "execution_count": null,
   "metadata": {},
   "outputs": [],
   "source": []
  }
 ],
 "metadata": {
  "kernelspec": {
   "display_name": "Python 3",
   "language": "python",
   "name": "python3"
  },
  "language_info": {
   "codemirror_mode": {
    "name": "ipython",
    "version": 3
   },
   "file_extension": ".py",
   "mimetype": "text/x-python",
   "name": "python",
   "nbconvert_exporter": "python",
   "pygments_lexer": "ipython3",
   "version": "3.12.5"
  }
 },
 "nbformat": 4,
 "nbformat_minor": 2
}
